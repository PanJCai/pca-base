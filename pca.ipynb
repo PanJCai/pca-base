{
 "cells": [
  {
   "cell_type": "markdown",
   "metadata": {},
   "source": [
    "# 主成分分析\n",
    "## 功能\n",
    "<p>用来对多维度的数据进行降维，压缩数据或编码，多维数据可视化。</p>\n",
    "\n",
    "## 算法\n",
    "<p>数据集X（以7X5为例），通过最优化解码矩阵D使得解码后的数据与原数据X相差较小，可得出最优编码矩阵为D<sup>T</sup>。通过最优化编码损失为最小，可证明最优化的解码矩阵为X<sup>T</sup>X的特征向量B。</p>\n",
    "\n",
    "<p>计算出X<sup>T</sup>的特征向量后，取较大的特征值对应的特征向量作为编码矩阵，例如取前两个特征向量，将7X5的数据编码成7X2的数据。</p>"
   ]
  },
  {
   "cell_type": "code",
   "execution_count": 55,
   "metadata": {},
   "outputs": [],
   "source": [
    "import numpy as np"
   ]
  },
  {
   "cell_type": "code",
   "execution_count": 56,
   "metadata": {},
   "outputs": [
    {
     "data": {
      "text/plain": [
       "array([[ 1,  2,  3,  4,  5],\n",
       "       [ 2,  3,  4,  5,  6],\n",
       "       [ 3,  4,  5,  6,  7],\n",
       "       [ 4,  5,  6,  7,  8],\n",
       "       [ 5,  6,  7,  8,  9],\n",
       "       [ 6,  7,  8,  9, 10],\n",
       "       [ 7,  8,  9, 10, 11]])"
      ]
     },
     "execution_count": 56,
     "metadata": {},
     "output_type": "execute_result"
    }
   ],
   "source": [
    "#示例矩阵，通过pca来对X进行编码\n",
    "X = np.array([[1,2,3,4,5,6,7],[2,3,4,5,6,7,8],[3,4,5,6,7,8,9],[4,5,6,7,8,9,10],[5,6,7,8,9,10,11]]).T\n",
    "X"
   ]
  },
  {
   "cell_type": "code",
   "execution_count": 57,
   "metadata": {},
   "outputs": [
    {
     "data": {
      "text/plain": [
       "array([[140, 168, 196, 224, 252],\n",
       "       [168, 203, 238, 273, 308],\n",
       "       [196, 238, 280, 322, 364],\n",
       "       [224, 273, 322, 371, 420],\n",
       "       [252, 308, 364, 420, 476]])"
      ]
     },
     "execution_count": 57,
     "metadata": {},
     "output_type": "execute_result"
    }
   ],
   "source": [
    "K = np.matmul(X.T,X)\n",
    "K"
   ]
  },
  {
   "cell_type": "code",
   "execution_count": 58,
   "metadata": {},
   "outputs": [
    {
     "data": {
      "text/plain": [
       "(array([ 1.46330282e+03,  6.69717837e+00, -1.28864465e-13, -5.11899283e-14,\n",
       "         2.80131645e-14]),\n",
       " array([[-0.30554081,  0.71178987,  0.33823955, -0.05015158, -0.02181198],\n",
       "        [-0.37146435,  0.40250992, -0.7317982 ,  0.45839887, -0.1920943 ],\n",
       "        [-0.4373879 ,  0.09322997,  0.17410819, -0.2490197 ,  0.6716786 ],\n",
       "        [-0.50331144, -0.21604998,  0.49422002, -0.67655088, -0.67982636],\n",
       "        [-0.56923498, -0.52532993, -0.27476956,  0.51732329,  0.22205405]]))"
      ]
     },
     "execution_count": 58,
     "metadata": {},
     "output_type": "execute_result"
    }
   ],
   "source": [
    "#X.T*X的特征分解，特征值A，特征向量B\n",
    "A,B = np.linalg.eig(K)\n",
    "A,B"
   ]
  },
  {
   "cell_type": "code",
   "execution_count": 59,
   "metadata": {},
   "outputs": [
    {
     "data": {
      "text/plain": [
       "array([[-0.30554081,  0.71178987,  0.33823955, -0.05015158, -0.02181198],\n",
       "       [-0.37146435,  0.40250992, -0.7317982 ,  0.45839887, -0.1920943 ],\n",
       "       [-0.4373879 ,  0.09322997,  0.17410819, -0.2490197 ,  0.6716786 ],\n",
       "       [-0.50331144, -0.21604998,  0.49422002, -0.67655088, -0.67982636],\n",
       "       [-0.56923498, -0.52532993, -0.27476956,  0.51732329,  0.22205405]])"
      ]
     },
     "execution_count": 59,
     "metadata": {},
     "output_type": "execute_result"
    }
   ],
   "source": [
    "B"
   ]
  },
  {
   "cell_type": "code",
   "execution_count": 60,
   "metadata": {},
   "outputs": [
    {
     "data": {
      "text/plain": [
       "array([[-7.22005389e+00, -9.40699338e+00, -1.15939329e+01,\n",
       "        -1.37808724e+01, -1.59678118e+01, -1.81547513e+01,\n",
       "        -2.03416908e+01],\n",
       "       [-1.69434995e+00, -1.22820011e+00, -7.62050269e-01,\n",
       "        -2.95900426e-01,  1.70249417e-01,  6.36399260e-01,\n",
       "         1.10254910e+00],\n",
       "       [-3.99680289e-15, -3.10862447e-15, -2.22044605e-15,\n",
       "        -1.77635684e-15, -4.44089210e-16,  8.88178420e-16,\n",
       "         1.33226763e-15],\n",
       "       [ 8.88178420e-16,  8.88178420e-16,  8.88178420e-16,\n",
       "         8.88178420e-16,  8.88178420e-16,  8.88178420e-16,\n",
       "         8.88178420e-16],\n",
       "       [-2.66453526e-15, -8.88178420e-16, -8.88178420e-16,\n",
       "        -4.44089210e-16,  1.33226763e-15,  2.22044605e-15,\n",
       "         3.10862447e-15]])"
      ]
     },
     "execution_count": 60,
     "metadata": {},
     "output_type": "execute_result"
    }
   ],
   "source": [
    "#pca编码矩阵D.T\n",
    "D = B\n",
    "C = np.matmul(D.T,X.T)\n",
    "C"
   ]
  },
  {
   "cell_type": "code",
   "execution_count": 61,
   "metadata": {},
   "outputs": [
    {
     "data": {
      "text/plain": [
       "array([[ 1.,  2.,  3.,  4.,  5.,  6.,  7.],\n",
       "       [ 2.,  3.,  4.,  5.,  6.,  7.,  8.],\n",
       "       [ 3.,  4.,  5.,  6.,  7.,  8.,  9.],\n",
       "       [ 4.,  5.,  6.,  7.,  8.,  9., 10.],\n",
       "       [ 5.,  6.,  7.,  8.,  9., 10., 11.]])"
      ]
     },
     "execution_count": 61,
     "metadata": {},
     "output_type": "execute_result"
    }
   ],
   "source": [
    "#解码矩阵D对C进行解码\n",
    "R = np.matmul(D,C)\n",
    "R"
   ]
  },
  {
   "cell_type": "code",
   "execution_count": 62,
   "metadata": {},
   "outputs": [
    {
     "data": {
      "text/plain": [
       "(array([[ -7.22005389,  -9.40699338, -11.59393287, -13.78087236,\n",
       "         -15.96781185, -18.15475133, -20.34169082],\n",
       "        [ -1.69434995,  -1.22820011,  -0.76205027,  -0.29590043,\n",
       "           0.17024942,   0.63639926,   1.1025491 ]]),\n",
       " array([[ 1.,  2.,  3.,  4.,  5.,  6.,  7.],\n",
       "        [ 2.,  3.,  4.,  5.,  6.,  7.,  8.],\n",
       "        [ 3.,  4.,  5.,  6.,  7.,  8.,  9.],\n",
       "        [ 4.,  5.,  6.,  7.,  8.,  9., 10.],\n",
       "        [ 5.,  6.,  7.,  8.,  9., 10., 11.]]))"
      ]
     },
     "execution_count": 62,
     "metadata": {},
     "output_type": "execute_result"
    }
   ],
   "source": [
    "#取前两维特征向量对数据进行编码与解码\n",
    "D = B[:,0:2]\n",
    "C = np.matmul(D.T,X.T)\n",
    "R = np.matmul(D,C)\n",
    "C,R"
   ]
  },
  {
   "cell_type": "code",
   "execution_count": null,
   "metadata": {},
   "outputs": [],
   "source": []
  }
 ],
 "metadata": {
  "kernelspec": {
   "display_name": "Python 3",
   "language": "python",
   "name": "python3"
  },
  "language_info": {
   "codemirror_mode": {
    "name": "ipython",
    "version": 3
   },
   "file_extension": ".py",
   "mimetype": "text/x-python",
   "name": "python",
   "nbconvert_exporter": "python",
   "pygments_lexer": "ipython3",
   "version": "3.6.5"
  }
 },
 "nbformat": 4,
 "nbformat_minor": 2
}
